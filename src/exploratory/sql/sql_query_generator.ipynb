{
 "cells": [
  {
   "cell_type": "code",
   "execution_count": 19,
   "metadata": {},
   "outputs": [
    {
     "data": {
      "text/plain": [
       "['select * from historic_prices where close price > open price']"
      ]
     },
     "execution_count": 19,
     "metadata": {},
     "output_type": "execute_result"
    }
   ],
   "source": [
    "from haystack.nodes import PromptNode, PromptTemplate, AnswerParser\n",
    "import os\n",
    "\n",
    "\n",
    "# Model configurations\n",
    "hfAPIKey = os.getenv(\"HF_API_KEY\")\n",
    "hfModelName = os.getenv(\"HF_MODEL_NAME\")\n",
    "\n",
    "columns = \"Date,Open,High,Low,Close,Volume\"\n",
    "\n",
    "\n",
    "sql_prompt = PromptTemplate(prompt=\"\"\"Please generate an SQL query. The query should answer the following Query: {query};\n",
    "                                                              The query is to be answered for the table is called 'historic_prices' with the following\n",
    "                                                              Columns: {columns} ;\n",
    "                                                              Answer:\"\"\",\n",
    "                            )\n",
    "\n",
    "promptNode = PromptNode(hfModelName,api_key=hfAPIKey,default_prompt_template=sql_prompt)\n",
    "\n",
    "\n",
    "#output = promptNode.run(\"Give me the latest five data rows\")\n",
    "output = promptNode.prompt(prompt_template=sql_prompt,query=\"Give me all data where close price was greater than open price\",columns=columns)\n",
    "\n",
    "output"
   ]
  }
 ],
 "metadata": {
  "kernelspec": {
   "display_name": "hacktoberfest-env",
   "language": "python",
   "name": "python3"
  },
  "language_info": {
   "codemirror_mode": {
    "name": "ipython",
    "version": 3
   },
   "file_extension": ".py",
   "mimetype": "text/x-python",
   "name": "python",
   "nbconvert_exporter": "python",
   "pygments_lexer": "ipython3",
   "version": "3.10.13"
  }
 },
 "nbformat": 4,
 "nbformat_minor": 2
}
