{
 "cells": [
  {
   "cell_type": "code",
   "execution_count": 25,
   "metadata": {},
   "outputs": [],
   "source": [
    "import yfinance as yf\n",
    "from haystack.nodes import LinkContentFetcher\n",
    "from haystack.document_stores import InMemoryDocumentStore\n",
    "from haystack.nodes import  DensePassageRetriever, AnswerParser\n",
    "from haystack.nodes.prompt import PromptTemplate\n",
    "import os\n",
    "from haystack.nodes import PromptNode\n",
    "from haystack import Pipeline\n",
    "from haystack.nodes import BM25Retriever\n"
   ]
  },
  {
   "cell_type": "code",
   "execution_count": 26,
   "metadata": {},
   "outputs": [],
   "source": [
    "# Model configurations\n",
    "hfAPIKey = os.getenv(\"HF_API_KEY\")\n",
    "hfModelName = os.getenv(\"HF_MODEL_NAME\")"
   ]
  },
  {
   "cell_type": "code",
   "execution_count": 27,
   "metadata": {},
   "outputs": [],
   "source": [
    "gold = yf.Ticker(\"GC=F\")\n",
    "news = gold.news\n"
   ]
  },
  {
   "cell_type": "code",
   "execution_count": 28,
   "metadata": {},
   "outputs": [
    {
     "name": "stdout",
     "output_type": "stream",
     "text": [
      "['https://finance.yahoo.com/m/a19af4a1-5c56-37d7-b5fb-ec7ec3b6ecca/gold-edges-higher-amid.html', 'https://finance.yahoo.com/news/1-newmont-shareholders-vote-favor-225344267.html', 'https://finance.yahoo.com/news/newmont-shareholders-vote-favor-newcrest-223053608.html', 'https://finance.yahoo.com/news/global-markets-bond-yields-ease-210650890.html', 'https://finance.yahoo.com/news/bitcoin-sinks-nearly-3-26-210130103.html', 'https://finance.yahoo.com/news/closing-prices-crude-oil-gold-192049208.html', 'https://finance.yahoo.com/news/barrick-gold-explore-discoveries-loulo-190200225.html', 'https://finance.yahoo.com/news/jim-cramer-doesnt-know-bitcoin-183130946.html']\n"
     ]
    }
   ],
   "source": [
    "links = []\n",
    "\n",
    "for new in news:\n",
    "    links.append(new[\"link\"])\n",
    "\n",
    "print(links)"
   ]
  },
  {
   "cell_type": "code",
   "execution_count": 29,
   "metadata": {},
   "outputs": [],
   "source": [
    "lcf = LinkContentFetcher()\n",
    "\n",
    "docs = []\n",
    "\n",
    "for link in links:\n",
    "    docs.append(lcf.fetch(link)[0])\n",
    "\n"
   ]
  },
  {
   "cell_type": "code",
   "execution_count": 31,
   "metadata": {},
   "outputs": [
    {
     "name": "stderr",
     "output_type": "stream",
     "text": [
      "Updating BM25 representation...: 100%|██████████| 8/8 [00:00<00:00, 1902.93 docs/s]\n"
     ]
    }
   ],
   "source": [
    "# faissDocumentStore = FAISSDocumentStore(faiss_index_factory_str=\"Flat\", return_embedding=True)\n",
    "\n",
    "# retriever = DensePassageRetriever(\n",
    "#             document_store=faissDocumentStore,\n",
    "#             query_embedding_model=\"facebook/dpr-question_encoder-single-nq-base\",\n",
    "#             passage_embedding_model=\"facebook/dpr-ctx_encoder-single-nq-base\",\n",
    "#             use_gpu=True,\n",
    "#             embed_title=True,\n",
    "#     )\n",
    "\n",
    "# faissDocumentStore.delete_documents()\n",
    "# faissDocumentStore.write_documents(docs)\n",
    "\n",
    "# faissDocumentStore.update_embeddings(retriever=retriever)\n"
   ]
  },
  {
   "cell_type": "code",
   "execution_count": 32,
   "metadata": {},
   "outputs": [],
   "source": [
    "promptTemplate = PromptTemplate(prompt = \"\"\"\"Answer the following query based on the provided context. If the context does\n",
    "                                                not include an answer, reply with 'The data does not contain information related to the question'.\\n\n",
    "                                                Query: {query}\\n\n",
    "                                                Documents: {join(documents)}\n",
    "                                                Answer: \n",
    "                                            \"\"\",\n",
    "                                            output_parser=AnswerParser())\n",
    "\n",
    "# Prompt Node initialization\n",
    "promptNode = PromptNode(hfModelName,api_key=hfAPIKey,max_length=256,model_kwargs={\"stream\":True})\n"
   ]
  },
  {
   "cell_type": "code",
   "execution_count": 33,
   "metadata": {},
   "outputs": [],
   "source": [
    "# Pipeline\n",
    "pipeline = Pipeline()\n",
    "pipeline.add_node(component=retriever, name=\"Retriever\", inputs=[\"Query\"])\n",
    "pipeline.add_node(component=promptNode, name=\"PromptNode\", inputs=[\"Retriever\"])"
   ]
  },
  {
   "cell_type": "code",
   "execution_count": 34,
   "metadata": {},
   "outputs": [
    {
     "name": "stdout",
     "output_type": "stream",
     "text": [
      "{'results': [], 'invocation_context': {'query': 'What can you tell me about gold?', 'documents': [<Document: {'content': \"Jim Cramer Doesn't Know Bitcoin\\nRead full article\\nOctober 11, 2023 at 11:31 AM\\n·3 min read\\n“I can’t go out with bitcoin because I can’t be in something where Mr. Bitcoin is about to go down big.”\\nSo said Jim Cramer today live on national TV.\\nThis is an excerpt from\\xa0The Node newsletter, a daily roundup of the most pivotal crypto news on CoinDesk and beyond. You can subscribe to get the full newsletter here .\\nThe veteran blow-hard, former trader and CNBC host was talking about hedge investments at a time of inflation and economic turmoil. He told his audience that they would be better putting money into gold, the traditional safe-haven, rather than crypto. “The charts…suggest you need to ignore the crypto cheerleaders now that bitcoin’s bouncing. And if you seriously want a real hedge against inflation or economic chaos, she says you should stick with gold,” he said.\\nSee also: Jim Cramer Expects Lower Bitcoin Price\\nBitcoin is currently trading at about $26,000, down from about $28,000 five days ago, and well off its $68,000 peak during 2021’s bull market. But it’s up 68% this year and the first cryptocurrency is still dominating the market. Recent analysis from CoinDesk Indices shows bitcoin gaining this year (along with ether) as regulatory pressure puts a damper on altcoins.\\nMoreover, many observers think Bitcoin’s prospects have never been brighter. A flood of institutional bitcoin exchange-traded funds (ETF) applications, from BlackRock and others, could bring in trillions of dollars into the market , creating an easier and more familiar way for everyday investors to get into the space. Commentators see approved ETFs having a similar impact on bitcoin as the investment vehicle had on the gold prices when those ETFs became available in 2004 .\\nBut maybe Cramer knows something that most Bitcoin watchers don’t? Perhaps. Although it could be that Cramer is just over crypto in general. He told CNBC’s “Squawk Box” that he sold his BTC in 2021 , as China cracked down on mining.\\nThe SBF trial, currently happening in Manhattan, is sapping crypto’s already battered reputation in the public mind and there are so many other ways for investors to participate in speculation these days beyond traditional stock picking.\\nStory continues\\nOther prominent risk investors are more bullish on bitcoin. Hedge fund manager Paul Tudor Jones told CNBC this week that geopolitical tensions and government debt levels make stocks unattractive at the moment, but gold and bitcoin are attractive options .\\nSee also: Kevin O'Leary's Crypto Investing Playbook | Opinion\\nThe stone-clad case for bitcoin is that it continues to show resilience as an asset, a community of HODLers and developers, and as technology. The blocks keep coming, despite a million forecasts of its demise over the last decade and a bit since it was created.\\nIn doom-y times, bitcoin surely becomes more attractive. And a continued regulatory clampdown on crypto could be good for BTC. After all, it’s the only coin that Securities and Exchange Commission (SEC) Chair Gary Gensler says is not a security, and therefore covered by traditional securities law.\\nDear reader, you will have to decide for yourself. This is not investment advice. But here’s one option: you could do the exact opposite of what Cramer says. An ETF designed to follow Cramer’s stock picks closed in August after little interest (and losing investors money). But an “inverse Cramer tracker” fund is still in operation , if you want to take a look.\\nTRENDING\\n\", 'content_type': 'text', 'score': 0.538524761541369, 'meta': {'url': 'https://finance.yahoo.com/news/jim-cramer-doesnt-know-bitcoin-183130946.html', 'timestamp': 1697099355}, 'id_hash_keys': ['content'], 'embedding': None, 'id': 'bc5eb435e4f80f08e0539ecdeb641165'}>, <Document: {'content': \"Bitcoin Sinks Nearly 3% to $26.7K; Bulls Ponder How Low It Can Go\\nRead full article\\nOctober 11, 2023 at 2:01 PM\\n·3 min read\\nBitcoin [BTC] Wednesday tumbled below $27,000 for the first time since the start of the month as what’s now a four-day rally in stocks and three consecutive days of falling bond yields failed to ignite any buying interest in the crypto.\\nBitcoin late in the afternoon on Wednesday was down 2.5% over the past 24 hours, underperforming the CoinDesk Market Index’s (CMI) 1.75% decline.\\nAmong large-cap cryptos, the Ripple Labs-related [XRP], litecoin [LTC] and Polkadot’s native token [DOT] fell 2%-3%. Ether [ETH] outperformed BTC and the CMI, declining 0.7% to near $1,550. Crypto derivatives traders who bet on higher prices with long positions suffered $50 million in liquidations during the day, CoinGlass data shows. BTC constituted $22.5 million of the liquidations, marking the second-highest reading this month.\\nThe weak price action of crypto occurred as traditional markets continued to post gains, with the Nasdaq advancing 0.7% and the S&P 500 adding 0.4% – both indexes now on a four-day winning streak. Bonds are having a winning streak of their own, with the 10-year U.S. Treasury yield lower by 10 basis points to 4.56%. It closed last Friday at 4.80%.\\nIn economic news, the U.S. Producer Price Index (PPI) for September came in a bit stronger than expectations. The minutes from the most recent meeting of the Fed’s Federal Open Market Committee (FOMC) showed most expect one more rate hike before the monetary tightening cycle is complete.\\nWhat’s next for BTC price?\\nSome analysts noted BTC’s remarkable steadiness over past weeks amid falling U.S. stocks and bond market rout. However, that trend appeared to fizzle out after the crypto failed to break above a heavy resistance at around $28,000, a confluence of the 200-day and 200-week moving averages.\\nPopular trader XO said in an X post that “narratives will shift bearish” for bitcoin as “spot holders will start unwinding in fear or lower prices,” hinting at a potential fall below $25,000.\\nStory continues\\nCaleb Franzen, founder of Cubic Analytics, noted in an X post that bitcoin broke down from its upward trend starting at its rally from $25,000, and could retest lower levels.\\n#Bitcoin is falling below the wedge, which isn't bullish.\\nI think we retest the former upper-bound as potential support, or perhaps fall even further into the green zone again. pic.twitter.com/P5OiDGber5\\n— Caleb Franzen (@CalebFranzen) October 11, 2023\\nHe said that BTC could potentially find support at the upper bound of its downtrend from summer, otherwise it could fall further to $24,000-$25,000.\\nDespite a potential decline in the short-term, bitcoin could be primed for higher prices in the long run. Billionaire investor Paul Tudor Jones said on CNBC that given the combination of extensive geopolitical risks and rising U.S. debt levels and interest payments, he loves gold and bitcoin .\\nTRENDING\\n\", 'content_type': 'text', 'score': 0.5319719964242396, 'meta': {'url': 'https://finance.yahoo.com/news/bitcoin-sinks-nearly-3-26-210130103.html', 'timestamp': 1697099353}, 'id_hash_keys': ['content'], 'embedding': None, 'id': 'c8644c23d376e112f4c6a050142891e9'}>], 'results': [], 'prompts': []}, 'documents': [<Document: {'content': \"Jim Cramer Doesn't Know Bitcoin\\nRead full article\\nOctober 11, 2023 at 11:31 AM\\n·3 min read\\n“I can’t go out with bitcoin because I can’t be in something where Mr. Bitcoin is about to go down big.”\\nSo said Jim Cramer today live on national TV.\\nThis is an excerpt from\\xa0The Node newsletter, a daily roundup of the most pivotal crypto news on CoinDesk and beyond. You can subscribe to get the full newsletter here .\\nThe veteran blow-hard, former trader and CNBC host was talking about hedge investments at a time of inflation and economic turmoil. He told his audience that they would be better putting money into gold, the traditional safe-haven, rather than crypto. “The charts…suggest you need to ignore the crypto cheerleaders now that bitcoin’s bouncing. And if you seriously want a real hedge against inflation or economic chaos, she says you should stick with gold,” he said.\\nSee also: Jim Cramer Expects Lower Bitcoin Price\\nBitcoin is currently trading at about $26,000, down from about $28,000 five days ago, and well off its $68,000 peak during 2021’s bull market. But it’s up 68% this year and the first cryptocurrency is still dominating the market. Recent analysis from CoinDesk Indices shows bitcoin gaining this year (along with ether) as regulatory pressure puts a damper on altcoins.\\nMoreover, many observers think Bitcoin’s prospects have never been brighter. A flood of institutional bitcoin exchange-traded funds (ETF) applications, from BlackRock and others, could bring in trillions of dollars into the market , creating an easier and more familiar way for everyday investors to get into the space. Commentators see approved ETFs having a similar impact on bitcoin as the investment vehicle had on the gold prices when those ETFs became available in 2004 .\\nBut maybe Cramer knows something that most Bitcoin watchers don’t? Perhaps. Although it could be that Cramer is just over crypto in general. He told CNBC’s “Squawk Box” that he sold his BTC in 2021 , as China cracked down on mining.\\nThe SBF trial, currently happening in Manhattan, is sapping crypto’s already battered reputation in the public mind and there are so many other ways for investors to participate in speculation these days beyond traditional stock picking.\\nStory continues\\nOther prominent risk investors are more bullish on bitcoin. Hedge fund manager Paul Tudor Jones told CNBC this week that geopolitical tensions and government debt levels make stocks unattractive at the moment, but gold and bitcoin are attractive options .\\nSee also: Kevin O'Leary's Crypto Investing Playbook | Opinion\\nThe stone-clad case for bitcoin is that it continues to show resilience as an asset, a community of HODLers and developers, and as technology. The blocks keep coming, despite a million forecasts of its demise over the last decade and a bit since it was created.\\nIn doom-y times, bitcoin surely becomes more attractive. And a continued regulatory clampdown on crypto could be good for BTC. After all, it’s the only coin that Securities and Exchange Commission (SEC) Chair Gary Gensler says is not a security, and therefore covered by traditional securities law.\\nDear reader, you will have to decide for yourself. This is not investment advice. But here’s one option: you could do the exact opposite of what Cramer says. An ETF designed to follow Cramer’s stock picks closed in August after little interest (and losing investors money). But an “inverse Cramer tracker” fund is still in operation , if you want to take a look.\\nTRENDING\\n\", 'content_type': 'text', 'score': 0.538524761541369, 'meta': {'url': 'https://finance.yahoo.com/news/jim-cramer-doesnt-know-bitcoin-183130946.html', 'timestamp': 1697099355}, 'id_hash_keys': ['content'], 'embedding': None, 'id': 'bc5eb435e4f80f08e0539ecdeb641165'}>, <Document: {'content': \"Bitcoin Sinks Nearly 3% to $26.7K; Bulls Ponder How Low It Can Go\\nRead full article\\nOctober 11, 2023 at 2:01 PM\\n·3 min read\\nBitcoin [BTC] Wednesday tumbled below $27,000 for the first time since the start of the month as what’s now a four-day rally in stocks and three consecutive days of falling bond yields failed to ignite any buying interest in the crypto.\\nBitcoin late in the afternoon on Wednesday was down 2.5% over the past 24 hours, underperforming the CoinDesk Market Index’s (CMI) 1.75% decline.\\nAmong large-cap cryptos, the Ripple Labs-related [XRP], litecoin [LTC] and Polkadot’s native token [DOT] fell 2%-3%. Ether [ETH] outperformed BTC and the CMI, declining 0.7% to near $1,550. Crypto derivatives traders who bet on higher prices with long positions suffered $50 million in liquidations during the day, CoinGlass data shows. BTC constituted $22.5 million of the liquidations, marking the second-highest reading this month.\\nThe weak price action of crypto occurred as traditional markets continued to post gains, with the Nasdaq advancing 0.7% and the S&P 500 adding 0.4% – both indexes now on a four-day winning streak. Bonds are having a winning streak of their own, with the 10-year U.S. Treasury yield lower by 10 basis points to 4.56%. It closed last Friday at 4.80%.\\nIn economic news, the U.S. Producer Price Index (PPI) for September came in a bit stronger than expectations. The minutes from the most recent meeting of the Fed’s Federal Open Market Committee (FOMC) showed most expect one more rate hike before the monetary tightening cycle is complete.\\nWhat’s next for BTC price?\\nSome analysts noted BTC’s remarkable steadiness over past weeks amid falling U.S. stocks and bond market rout. However, that trend appeared to fizzle out after the crypto failed to break above a heavy resistance at around $28,000, a confluence of the 200-day and 200-week moving averages.\\nPopular trader XO said in an X post that “narratives will shift bearish” for bitcoin as “spot holders will start unwinding in fear or lower prices,” hinting at a potential fall below $25,000.\\nStory continues\\nCaleb Franzen, founder of Cubic Analytics, noted in an X post that bitcoin broke down from its upward trend starting at its rally from $25,000, and could retest lower levels.\\n#Bitcoin is falling below the wedge, which isn't bullish.\\nI think we retest the former upper-bound as potential support, or perhaps fall even further into the green zone again. pic.twitter.com/P5OiDGber5\\n— Caleb Franzen (@CalebFranzen) October 11, 2023\\nHe said that BTC could potentially find support at the upper bound of its downtrend from summer, otherwise it could fall further to $24,000-$25,000.\\nDespite a potential decline in the short-term, bitcoin could be primed for higher prices in the long run. Billionaire investor Paul Tudor Jones said on CNBC that given the combination of extensive geopolitical risks and rising U.S. debt levels and interest payments, he loves gold and bitcoin .\\nTRENDING\\n\", 'content_type': 'text', 'score': 0.5319719964242396, 'meta': {'url': 'https://finance.yahoo.com/news/bitcoin-sinks-nearly-3-26-210130103.html', 'timestamp': 1697099353}, 'id_hash_keys': ['content'], 'embedding': None, 'id': 'c8644c23d376e112f4c6a050142891e9'}>], 'root_node': 'Query', 'params': {}, 'query': 'What can you tell me about gold?', 'node_id': 'PromptNode'}\n"
     ]
    }
   ],
   "source": [
    "output = pipeline.run(query=\"What can you tell me about gold?\")\n",
    "\n",
    "print(output)"
   ]
  }
 ],
 "metadata": {
  "kernelspec": {
   "display_name": "hacktoberfest-env",
   "language": "python",
   "name": "python3"
  },
  "language_info": {
   "codemirror_mode": {
    "name": "ipython",
    "version": 3
   },
   "file_extension": ".py",
   "mimetype": "text/x-python",
   "name": "python",
   "nbconvert_exporter": "python",
   "pygments_lexer": "ipython3",
   "version": "3.10.13"
  }
 },
 "nbformat": 4,
 "nbformat_minor": 2
}
