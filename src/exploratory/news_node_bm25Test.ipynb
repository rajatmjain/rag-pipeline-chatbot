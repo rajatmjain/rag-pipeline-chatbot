{
 "cells": [
  {
   "cell_type": "code",
   "execution_count": 1,
   "metadata": {},
   "outputs": [],
   "source": [
    "# Packages\n",
    "import os\n",
    "import yfinance as yf\n",
    "from haystack.nodes import LinkContentFetcher\n",
    "from haystack.document_stores import InMemoryDocumentStore\n",
    "from haystack.nodes import  BM25Retriever, AnswerParser\n",
    "from haystack.nodes.prompt import PromptTemplate\n",
    "from haystack.nodes import PromptNode\n",
    "from haystack import Pipeline\n",
    "from haystack.utils import print_answers"
   ]
  },
  {
   "cell_type": "code",
   "execution_count": 2,
   "metadata": {},
   "outputs": [],
   "source": [
    "# Model configurations\n",
    "hfAPIKey = os.getenv(\"HF_API_KEY\")\n",
    "hfModelName = os.getenv(\"HF_MODEL_NAME\")"
   ]
  },
  {
   "cell_type": "code",
   "execution_count": 3,
   "metadata": {},
   "outputs": [],
   "source": [
    "gold = yf.Ticker(\"GC=F\")\n",
    "news = gold.news"
   ]
  },
  {
   "cell_type": "code",
   "execution_count": 4,
   "metadata": {},
   "outputs": [],
   "source": [
    "links = []\n",
    "\n",
    "for new in news:\n",
    "    links.append(new[\"link\"])"
   ]
  },
  {
   "cell_type": "code",
   "execution_count": 5,
   "metadata": {},
   "outputs": [],
   "source": [
    "lcf = LinkContentFetcher()\n",
    "docs = []\n",
    "\n",
    "for link in links:\n",
    "    docs.append(lcf.fetch(link)[0])"
   ]
  },
  {
   "cell_type": "code",
   "execution_count": 6,
   "metadata": {},
   "outputs": [
    {
     "name": "stderr",
     "output_type": "stream",
     "text": [
      "Updating BM25 representation...: 100%|██████████| 8/8 [00:00<00:00, 1716.60 docs/s]\n"
     ]
    }
   ],
   "source": [
    "documentStore = InMemoryDocumentStore(use_bm25=True)\n",
    "\n",
    "documentStore.delete_documents()\n",
    "documentStore.write_documents(docs)\n",
    "\n",
    "retriever = BM25Retriever(document_store=documentStore, top_k=3)\n",
    "\n"
   ]
  },
  {
   "cell_type": "code",
   "execution_count": 7,
   "metadata": {},
   "outputs": [],
   "source": [
    "promptTemplate = PromptTemplate(\n",
    "    prompt=\"\"\"\n",
    "    Answer the question truthfully based solely on the given documents. If the documents do not contain the answer to the question, say that answering is not possible given the available information. Your answer should be no longer than 50 words.\n",
    "    Documents:{join(documents)}\n",
    "    Question:{query}\n",
    "    Answer:\n",
    "    \"\"\",\n",
    "    output_parser=AnswerParser(),\n",
    ")\n",
    "\n",
    "# Prompt Node initialization\n",
    "promptNode = PromptNode(hfModelName,api_key=hfAPIKey,default_prompt_template = promptTemplate)"
   ]
  },
  {
   "cell_type": "code",
   "execution_count": 8,
   "metadata": {},
   "outputs": [],
   "source": [
    "# Pipeline\n",
    "generative_pipeline = Pipeline()\n",
    "generative_pipeline.add_node(component=retriever, name=\"retriever\", inputs=[\"Query\"])\n",
    "generative_pipeline.add_node(component=promptNode, name=\"promptNode\", inputs=[\"retriever\"])"
   ]
  },
  {
   "cell_type": "code",
   "execution_count": 10,
   "metadata": {},
   "outputs": [
    {
     "name": "stderr",
     "output_type": "stream",
     "text": [
      "The prompt has been truncated from 6588 tokens to 924 tokens so that the prompt length and answer length (100 tokens) fit within the max token limit (1024 tokens). Shorten the prompt to prevent it from being cut off.\n"
     ]
    },
    {
     "name": "stdout",
     "output_type": "stream",
     "text": [
      "'Query: How did gold perform?'\n",
      "'Answers:'\n",
      "[   {   'answer': ' from sanctions by the Biden administration should be '\n",
      "                  'frozen.\\n'\n",
      "                  'The administration has already been working to do that.\\n'\n",
      "                  'The US Treasury Department has been working to freeze $6 '\n",
      "                  'billion in Iranian oil assets that were freed from '\n",
      "                  'sanctions by the Biden administration.\\n'\n",
      "                  'The Treasury Department has been working to freeze $6 '\n",
      "                  'billion in Iranian oil assets that were freed from '\n",
      "                  'sanctions by the Biden administration.\\n'\n",
      "                  'The Treasury Department has been working to freeze $6 '\n",
      "                  'billion in Iranian oil assets that'}]\n"
     ]
    }
   ],
   "source": [
    "response = generative_pipeline.run(\"How did gold perform?\")\n",
    "print_answers(response, details=\"minimum\")"
   ]
  }
 ],
 "metadata": {
  "kernelspec": {
   "display_name": "hacktoberfest-env",
   "language": "python",
   "name": "python3"
  },
  "language_info": {
   "codemirror_mode": {
    "name": "ipython",
    "version": 3
   },
   "file_extension": ".py",
   "mimetype": "text/x-python",
   "name": "python",
   "nbconvert_exporter": "python",
   "pygments_lexer": "ipython3",
   "version": "3.10.13"
  }
 },
 "nbformat": 4,
 "nbformat_minor": 2
}
