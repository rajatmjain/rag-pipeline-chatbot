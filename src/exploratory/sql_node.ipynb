{
 "cells": [
  {
   "cell_type": "code",
   "execution_count": 2,
   "metadata": {},
   "outputs": [],
   "source": [
    "from sql_query_generator import SQLQueryGenerator\n",
    "import pandas as pd\n",
    "import sqlite3"
   ]
  },
  {
   "cell_type": "code",
   "execution_count": 3,
   "metadata": {},
   "outputs": [
    {
     "ename": "OperationalError",
     "evalue": "unable to open database file",
     "output_type": "error",
     "traceback": [
      "\u001b[0;31m---------------------------------------------------------------------------\u001b[0m",
      "\u001b[0;31mOperationalError\u001b[0m                          Traceback (most recent call last)",
      "\u001b[1;32m/Users/enduser/Desktop/Workspace/Ploomber/rag-pipeline-chatbot/src/exploratory/sql_node.ipynb Cell 2\u001b[0m line \u001b[0;36m3\n\u001b[1;32m      <a href='vscode-notebook-cell:/Users/enduser/Desktop/Workspace/Ploomber/rag-pipeline-chatbot/src/exploratory/sql_node.ipynb#W1sZmlsZQ%3D%3D?line=0'>1</a>\u001b[0m query \u001b[39m=\u001b[39m \u001b[39m\"\u001b[39m\u001b[39mGive me the 10 latest data\u001b[39m\u001b[39m\"\u001b[39m\n\u001b[1;32m      <a href='vscode-notebook-cell:/Users/enduser/Desktop/Workspace/Ploomber/rag-pipeline-chatbot/src/exploratory/sql_node.ipynb#W1sZmlsZQ%3D%3D?line=1'>2</a>\u001b[0m sqlQueryGenerator \u001b[39m=\u001b[39m SQLQueryGenerator()\n\u001b[0;32m----> <a href='vscode-notebook-cell:/Users/enduser/Desktop/Workspace/Ploomber/rag-pipeline-chatbot/src/exploratory/sql_node.ipynb#W1sZmlsZQ%3D%3D?line=2'>3</a>\u001b[0m sqlQuery \u001b[39m=\u001b[39m sqlQueryGenerator\u001b[39m.\u001b[39;49mgenerateSQL(query\u001b[39m=\u001b[39;49mquery)\n\u001b[1;32m      <a href='vscode-notebook-cell:/Users/enduser/Desktop/Workspace/Ploomber/rag-pipeline-chatbot/src/exploratory/sql_node.ipynb#W1sZmlsZQ%3D%3D?line=3'>4</a>\u001b[0m \u001b[39mprint\u001b[39m(sqlQuery)\n",
      "File \u001b[0;32m~/Desktop/Workspace/Ploomber/rag-pipeline-chatbot/src/exploratory/sql_query_generator.py:16\u001b[0m, in \u001b[0;36mSQLQueryGenerator.generateSQL\u001b[0;34m(self, query)\u001b[0m\n\u001b[1;32m     14\u001b[0m \u001b[39mdef\u001b[39;00m \u001b[39mgenerateSQL\u001b[39m(\u001b[39mself\u001b[39m,query:\u001b[39mstr\u001b[39m) \u001b[39m-\u001b[39m\u001b[39m>\u001b[39m \u001b[39mstr\u001b[39m:\n\u001b[0;32m---> 16\u001b[0m     columns \u001b[39m=\u001b[39m \u001b[39mself\u001b[39;49m\u001b[39m.\u001b[39;49mgetTableColumns()\n\u001b[1;32m     18\u001b[0m     sqlPrompt \u001b[39m=\u001b[39m PromptTemplate(prompt\u001b[39m=\u001b[39m\u001b[39m\"\"\"\u001b[39m\u001b[39mPlease generate and return only an SQL query. The query should answer the following Query: \u001b[39m\u001b[39m{query}\u001b[39;00m\u001b[39m;\u001b[39m\n\u001b[1;32m     19\u001b[0m \u001b[39m                                                          The query is to be answered for the table is called \u001b[39m\u001b[39m'\u001b[39m\u001b[39mgold_prices\u001b[39m\u001b[39m'\u001b[39m\u001b[39m with the following\u001b[39m\n\u001b[1;32m     20\u001b[0m \u001b[39m                                                          Columns: \u001b[39m\u001b[39m{columns}\u001b[39;00m\u001b[39m ;\u001b[39m\n\u001b[1;32m     21\u001b[0m \u001b[39m                                                          Answer:\u001b[39m\u001b[39m\"\"\"\u001b[39m,\n\u001b[1;32m     22\u001b[0m                         )\n\u001b[1;32m     24\u001b[0m     promptNode \u001b[39m=\u001b[39m PromptNode(\u001b[39mself\u001b[39m\u001b[39m.\u001b[39mhfModelName,api_key\u001b[39m=\u001b[39m\u001b[39mself\u001b[39m\u001b[39m.\u001b[39mhfAPIKey,default_prompt_template\u001b[39m=\u001b[39msqlPrompt)\n",
      "File \u001b[0;32m~/Desktop/Workspace/Ploomber/rag-pipeline-chatbot/src/exploratory/sql_query_generator.py:32\u001b[0m, in \u001b[0;36mSQLQueryGenerator.getTableColumns\u001b[0;34m(self)\u001b[0m\n\u001b[1;32m     30\u001b[0m \u001b[39mdef\u001b[39;00m \u001b[39mgetTableColumns\u001b[39m(\u001b[39mself\u001b[39m) \u001b[39m-\u001b[39m\u001b[39m>\u001b[39m \u001b[39mstr\u001b[39m:\n\u001b[1;32m     31\u001b[0m     \u001b[39m# Connect to the SQLite database\u001b[39;00m\n\u001b[0;32m---> 32\u001b[0m     conn \u001b[39m=\u001b[39m sqlite3\u001b[39m.\u001b[39;49mconnect(\u001b[39m'\u001b[39;49m\u001b[39mdata/database.db\u001b[39;49m\u001b[39m'\u001b[39;49m)\n\u001b[1;32m     34\u001b[0m     \u001b[39m# Use Pandas to read the table into a DataFrame\u001b[39;00m\n\u001b[1;32m     35\u001b[0m     df \u001b[39m=\u001b[39m pd\u001b[39m.\u001b[39mread_sql_query(\u001b[39mf\u001b[39m\u001b[39m\"\u001b[39m\u001b[39mSELECT * FROM gold_prices LIMIT 1\u001b[39m\u001b[39m\"\u001b[39m, conn)\n",
      "\u001b[0;31mOperationalError\u001b[0m: unable to open database file"
     ]
    }
   ],
   "source": [
    "query = \"Give me the 10 latest data\"\n",
    "sqlQueryGenerator = SQLQueryGenerator()\n",
    "sqlQuery = sqlQueryGenerator.generateSQL(query=query)\n"
   ]
  },
  {
   "cell_type": "code",
   "execution_count": null,
   "metadata": {},
   "outputs": [],
   "source": [
    "conn = sqlite3.connect(\"data/database.db\")\n",
    "df = pd.read_sql_query(sqlQuery,conn)\n",
    "df"
   ]
  }
 ],
 "metadata": {
  "kernelspec": {
   "display_name": "hacktoberfest",
   "language": "python",
   "name": "python3"
  },
  "language_info": {
   "codemirror_mode": {
    "name": "ipython",
    "version": 3
   },
   "file_extension": ".py",
   "mimetype": "text/x-python",
   "name": "python",
   "nbconvert_exporter": "python",
   "pygments_lexer": "ipython3",
   "version": "3.10.13"
  }
 },
 "nbformat": 4,
 "nbformat_minor": 2
}
