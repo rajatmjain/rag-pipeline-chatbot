{
 "cells": [
  {
   "cell_type": "code",
   "execution_count": 1,
   "metadata": {},
   "outputs": [],
   "source": [
    "# Packages\n",
    "import os\n",
    "import yfinance as yf\n",
    "from haystack.nodes import LinkContentFetcher\n",
    "from haystack.document_stores import InMemoryDocumentStore, FAISSDocumentStore\n",
    "from haystack.nodes import  BM25Retriever, AnswerParser, DensePassageRetriever, EmbeddingRetriever\n",
    "from haystack.nodes.prompt import PromptTemplate\n",
    "from haystack.nodes import PromptNode\n",
    "from haystack import Pipeline\n",
    "from haystack.utils import print_answers"
   ]
  },
  {
   "cell_type": "code",
   "execution_count": 2,
   "metadata": {},
   "outputs": [],
   "source": [
    "# Model configurations\n",
    "hfAPIKey = os.getenv(\"HF_API_KEY\")\n",
    "hfModelName = os.getenv(\"HF_MODEL_NAME\")"
   ]
  },
  {
   "cell_type": "code",
   "execution_count": 3,
   "metadata": {},
   "outputs": [],
   "source": [
    "gold = yf.Ticker(\"GC=F\")\n",
    "news = gold.news"
   ]
  },
  {
   "cell_type": "code",
   "execution_count": null,
   "metadata": {},
   "outputs": [],
   "source": [
    "links = []\n",
    "\n",
    "for new in news:\n",
    "    links.append(new[\"link\"])"
   ]
  },
  {
   "cell_type": "code",
   "execution_count": null,
   "metadata": {},
   "outputs": [],
   "source": [
    "lcf = LinkContentFetcher()\n",
    "docs = []\n",
    "\n",
    "for link in links:\n",
    "    docs.append(lcf.fetch(link)[0])"
   ]
  },
  {
   "cell_type": "code",
   "execution_count": null,
   "metadata": {},
   "outputs": [],
   "source": [
    "documentStore = FAISSDocumentStore(faiss_index_factory_str=\"Flat\", return_embedding=True)\n",
    "\n",
    "\n",
    "documentStore.delete_documents()\n",
    "documentStore.write_documents(docs)\n",
    "\n",
    "retriever = DensePassageRetriever(\n",
    "                document_store=documentStore,\n",
    "                query_embedding_model=\"facebook/dpr-question_encoder-single-nq-base\",\n",
    "                passage_embedding_model=\"facebook/dpr-ctx_encoder-single-nq-base\",\n",
    "                use_gpu=True,\n",
    "                embed_title=True,\n",
    "    )\n",
    "\n",
    "\n",
    "documentStore.update_embeddings(retriever)\n",
    "\n",
    "documentStore.save(\"../../../data/faiss/my_faiss\")\n"
   ]
  },
  {
   "cell_type": "code",
   "execution_count": null,
   "metadata": {},
   "outputs": [],
   "source": [
    "documentStore = FAISSDocumentStore.load(index_path=\"../../../data/faiss/my_faiss\")\n",
    "documents = documentStore.get_all_documents(return_embedding=True)\n",
    "print(documents[0].embedding)"
   ]
  },
  {
   "cell_type": "code",
   "execution_count": null,
   "metadata": {},
   "outputs": [],
   "source": [
    "from haystack.pipelines import DocumentSearchPipeline\n",
    "from haystack.utils import print_documents\n",
    "relevantDocuments = DocumentSearchPipeline(retriever)\n",
    "res = relevantDocuments.run(query=\"Tell me something Gold's market performance\", params={\"Retriever\": {\"top_k\": 3}})\n",
    "print_documents(res, max_text_len=512)"
   ]
  },
  {
   "cell_type": "code",
   "execution_count": null,
   "metadata": {},
   "outputs": [],
   "source": [
    "promptTemplate = PromptTemplate(\n",
    "    prompt=\"\"\"\" You are an assistant getting latest news on the commodity of gold from documents.\n",
    "                                Strictly answer the following query briefly based on the provided news from the documents and nothing else.\n",
    "                                If the context does not include an answer, reply with 'The data does not contain information related to the question'.\\n\n",
    "                                Query: {query}\\n\n",
    "                                Documents: {documents}\\n\n",
    "                                Answer: \n",
    "                                \"\"\",\n",
    "    output_parser=AnswerParser(),\n",
    ")\n",
    "\n",
    "# Prompt Node initialization\n",
    "promptNode = PromptNode(hfModelName,api_key=hfAPIKey,default_prompt_template = promptTemplate)"
   ]
  },
  {
   "cell_type": "code",
   "execution_count": null,
   "metadata": {},
   "outputs": [],
   "source": [
    "# Pipeline\n",
    "pipeline = Pipeline()\n",
    "pipeline.add_node(component=retriever, name=\"retriever\", inputs=[\"Query\"])\n",
    "pipeline.add_node(component=promptNode, name=\"promptNode\", inputs=[\"retriever\"])"
   ]
  },
  {
   "cell_type": "code",
   "execution_count": null,
   "metadata": {},
   "outputs": [],
   "source": [
    "output = pipeline.run(query=\"What is the news on King Charles on gold mining\",documents=res)\n",
    "print_answers(output, details=\"minimum\")"
   ]
  }
 ],
 "metadata": {
  "kernelspec": {
   "display_name": "hacktoberfest-env",
   "language": "python",
   "name": "python3"
  },
  "language_info": {
   "codemirror_mode": {
    "name": "ipython",
    "version": 3
   },
   "file_extension": ".py",
   "mimetype": "text/x-python",
   "name": "python",
   "nbconvert_exporter": "python",
   "pygments_lexer": "ipython3",
   "version": "3.10.13"
  }
 },
 "nbformat": 4,
 "nbformat_minor": 2
}
