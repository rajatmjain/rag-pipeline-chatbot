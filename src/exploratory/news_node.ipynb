{
 "cells": [
  {
   "cell_type": "code",
   "execution_count": 8,
   "metadata": {},
   "outputs": [
    {
     "name": "stdout",
     "output_type": "stream",
     "text": [
      "Requirement already satisfied: farm-haystack[faiss] in /Users/enduser/miniconda3/envs/hacktoberfest/lib/python3.10/site-packages (1.21.2)\n",
      "Requirement already satisfied: boilerpy3 in /Users/enduser/miniconda3/envs/hacktoberfest/lib/python3.10/site-packages (from farm-haystack[faiss]) (1.0.6)\n",
      "Requirement already satisfied: events in /Users/enduser/miniconda3/envs/hacktoberfest/lib/python3.10/site-packages (from farm-haystack[faiss]) (0.5)\n",
      "Requirement already satisfied: httpx in /Users/enduser/miniconda3/envs/hacktoberfest/lib/python3.10/site-packages (from farm-haystack[faiss]) (0.25.0)\n",
      "Requirement already satisfied: jsonschema in /Users/enduser/miniconda3/envs/hacktoberfest/lib/python3.10/site-packages (from farm-haystack[faiss]) (4.19.1)\n",
      "Requirement already satisfied: lazy-imports==0.3.1 in /Users/enduser/miniconda3/envs/hacktoberfest/lib/python3.10/site-packages (from farm-haystack[faiss]) (0.3.1)\n",
      "Requirement already satisfied: more-itertools in /Users/enduser/miniconda3/envs/hacktoberfest/lib/python3.10/site-packages (from farm-haystack[faiss]) (10.1.0)\n",
      "Requirement already satisfied: networkx in /Users/enduser/miniconda3/envs/hacktoberfest/lib/python3.10/site-packages (from farm-haystack[faiss]) (3.1)\n",
      "Requirement already satisfied: pandas in /Users/enduser/miniconda3/envs/hacktoberfest/lib/python3.10/site-packages (from farm-haystack[faiss]) (2.0.3)\n",
      "Requirement already satisfied: pillow in /Users/enduser/miniconda3/envs/hacktoberfest/lib/python3.10/site-packages (from farm-haystack[faiss]) (10.1.0)\n",
      "Requirement already satisfied: platformdirs in /Users/enduser/miniconda3/envs/hacktoberfest/lib/python3.10/site-packages (from farm-haystack[faiss]) (3.11.0)\n",
      "Requirement already satisfied: posthog in /Users/enduser/miniconda3/envs/hacktoberfest/lib/python3.10/site-packages (from farm-haystack[faiss]) (3.0.2)\n",
      "Requirement already satisfied: prompthub-py==4.0.0 in /Users/enduser/miniconda3/envs/hacktoberfest/lib/python3.10/site-packages (from farm-haystack[faiss]) (4.0.0)\n",
      "Requirement already satisfied: pydantic<2 in /Users/enduser/miniconda3/envs/hacktoberfest/lib/python3.10/site-packages (from farm-haystack[faiss]) (1.10.13)\n",
      "Requirement already satisfied: quantulum3 in /Users/enduser/miniconda3/envs/hacktoberfest/lib/python3.10/site-packages (from farm-haystack[faiss]) (0.9.0)\n",
      "Requirement already satisfied: rank-bm25 in /Users/enduser/miniconda3/envs/hacktoberfest/lib/python3.10/site-packages (from farm-haystack[faiss]) (0.2.2)\n",
      "Requirement already satisfied: requests in /Users/enduser/miniconda3/envs/hacktoberfest/lib/python3.10/site-packages (from farm-haystack[faiss]) (2.31.0)\n",
      "Requirement already satisfied: requests-cache<1.0.0 in /Users/enduser/miniconda3/envs/hacktoberfest/lib/python3.10/site-packages (from farm-haystack[faiss]) (0.9.8)\n",
      "Requirement already satisfied: scikit-learn>=1.3.0 in /Users/enduser/miniconda3/envs/hacktoberfest/lib/python3.10/site-packages (from farm-haystack[faiss]) (1.3.1)\n",
      "Requirement already satisfied: sseclient-py in /Users/enduser/miniconda3/envs/hacktoberfest/lib/python3.10/site-packages (from farm-haystack[faiss]) (1.8.0)\n",
      "Requirement already satisfied: tenacity in /Users/enduser/miniconda3/envs/hacktoberfest/lib/python3.10/site-packages (from farm-haystack[faiss]) (8.2.3)\n",
      "Requirement already satisfied: tiktoken>=0.5.1 in /Users/enduser/miniconda3/envs/hacktoberfest/lib/python3.10/site-packages (from farm-haystack[faiss]) (0.5.1)\n",
      "Requirement already satisfied: tqdm in /Users/enduser/miniconda3/envs/hacktoberfest/lib/python3.10/site-packages (from farm-haystack[faiss]) (4.66.1)\n",
      "Requirement already satisfied: transformers==4.32.1 in /Users/enduser/miniconda3/envs/hacktoberfest/lib/python3.10/site-packages (from farm-haystack[faiss]) (4.32.1)\n",
      "Requirement already satisfied: pyyaml<7.0,>=6.0 in /Users/enduser/miniconda3/envs/hacktoberfest/lib/python3.10/site-packages (from prompthub-py==4.0.0->farm-haystack[faiss]) (6.0.1)\n",
      "Requirement already satisfied: filelock in /Users/enduser/miniconda3/envs/hacktoberfest/lib/python3.10/site-packages (from transformers==4.32.1->farm-haystack[faiss]) (3.12.4)\n",
      "Requirement already satisfied: huggingface-hub<1.0,>=0.15.1 in /Users/enduser/miniconda3/envs/hacktoberfest/lib/python3.10/site-packages (from transformers==4.32.1->farm-haystack[faiss]) (0.18.0)\n",
      "Requirement already satisfied: numpy>=1.17 in /Users/enduser/miniconda3/envs/hacktoberfest/lib/python3.10/site-packages (from transformers==4.32.1->farm-haystack[faiss]) (1.25.2)\n",
      "Requirement already satisfied: packaging>=20.0 in /Users/enduser/miniconda3/envs/hacktoberfest/lib/python3.10/site-packages (from transformers==4.32.1->farm-haystack[faiss]) (23.2)\n",
      "Requirement already satisfied: regex!=2019.12.17 in /Users/enduser/miniconda3/envs/hacktoberfest/lib/python3.10/site-packages (from transformers==4.32.1->farm-haystack[faiss]) (2023.10.3)\n",
      "Requirement already satisfied: tokenizers!=0.11.3,<0.14,>=0.11.1 in /Users/enduser/miniconda3/envs/hacktoberfest/lib/python3.10/site-packages (from transformers==4.32.1->farm-haystack[faiss]) (0.13.3)\n",
      "Requirement already satisfied: safetensors>=0.3.1 in /Users/enduser/miniconda3/envs/hacktoberfest/lib/python3.10/site-packages (from transformers==4.32.1->farm-haystack[faiss]) (0.4.0)\n",
      "Requirement already satisfied: typing-extensions>=4.2.0 in /Users/enduser/miniconda3/envs/hacktoberfest/lib/python3.10/site-packages (from pydantic<2->farm-haystack[faiss]) (4.8.0)\n",
      "Requirement already satisfied: charset-normalizer<4,>=2 in /Users/enduser/miniconda3/envs/hacktoberfest/lib/python3.10/site-packages (from requests->farm-haystack[faiss]) (3.3.0)\n",
      "Requirement already satisfied: idna<4,>=2.5 in /Users/enduser/miniconda3/envs/hacktoberfest/lib/python3.10/site-packages (from requests->farm-haystack[faiss]) (3.4)\n",
      "Requirement already satisfied: urllib3<3,>=1.21.1 in /Users/enduser/miniconda3/envs/hacktoberfest/lib/python3.10/site-packages (from requests->farm-haystack[faiss]) (2.0.6)\n",
      "Requirement already satisfied: certifi>=2017.4.17 in /Users/enduser/miniconda3/envs/hacktoberfest/lib/python3.10/site-packages (from requests->farm-haystack[faiss]) (2023.7.22)\n",
      "Requirement already satisfied: appdirs>=1.4.4 in /Users/enduser/miniconda3/envs/hacktoberfest/lib/python3.10/site-packages (from requests-cache<1.0.0->farm-haystack[faiss]) (1.4.4)\n",
      "Requirement already satisfied: attrs>=21.2 in /Users/enduser/miniconda3/envs/hacktoberfest/lib/python3.10/site-packages (from requests-cache<1.0.0->farm-haystack[faiss]) (23.1.0)\n",
      "Requirement already satisfied: cattrs>=22.2 in /Users/enduser/miniconda3/envs/hacktoberfest/lib/python3.10/site-packages (from requests-cache<1.0.0->farm-haystack[faiss]) (23.1.2)\n",
      "Requirement already satisfied: url-normalize>=1.4 in /Users/enduser/miniconda3/envs/hacktoberfest/lib/python3.10/site-packages (from requests-cache<1.0.0->farm-haystack[faiss]) (1.4.3)\n",
      "Requirement already satisfied: scipy>=1.5.0 in /Users/enduser/miniconda3/envs/hacktoberfest/lib/python3.10/site-packages (from scikit-learn>=1.3.0->farm-haystack[faiss]) (1.9.3)\n",
      "Requirement already satisfied: joblib>=1.1.1 in /Users/enduser/miniconda3/envs/hacktoberfest/lib/python3.10/site-packages (from scikit-learn>=1.3.0->farm-haystack[faiss]) (1.3.2)\n",
      "Requirement already satisfied: threadpoolctl>=2.0.0 in /Users/enduser/miniconda3/envs/hacktoberfest/lib/python3.10/site-packages (from scikit-learn>=1.3.0->farm-haystack[faiss]) (3.2.0)\n",
      "Requirement already satisfied: psycopg2-binary in /Users/enduser/miniconda3/envs/hacktoberfest/lib/python3.10/site-packages (from farm-haystack[faiss]) (2.9.9)\n",
      "Requirement already satisfied: sqlalchemy-utils in /Users/enduser/miniconda3/envs/hacktoberfest/lib/python3.10/site-packages (from farm-haystack[faiss]) (0.41.1)\n",
      "Requirement already satisfied: sqlalchemy<2,>=1.4.2 in /Users/enduser/miniconda3/envs/hacktoberfest/lib/python3.10/site-packages (from farm-haystack[faiss]) (1.4.49)\n",
      "Requirement already satisfied: faiss-cpu<=1.7.2,>=1.6.3 in /Users/enduser/miniconda3/envs/hacktoberfest/lib/python3.10/site-packages (from farm-haystack[faiss]) (1.7.2)\n",
      "Requirement already satisfied: httpcore<0.19.0,>=0.18.0 in /Users/enduser/miniconda3/envs/hacktoberfest/lib/python3.10/site-packages (from httpx->farm-haystack[faiss]) (0.18.0)\n",
      "Requirement already satisfied: sniffio in /Users/enduser/miniconda3/envs/hacktoberfest/lib/python3.10/site-packages (from httpx->farm-haystack[faiss]) (1.3.0)\n",
      "Requirement already satisfied: jsonschema-specifications>=2023.03.6 in /Users/enduser/miniconda3/envs/hacktoberfest/lib/python3.10/site-packages (from jsonschema->farm-haystack[faiss]) (2023.7.1)\n",
      "Requirement already satisfied: referencing>=0.28.4 in /Users/enduser/miniconda3/envs/hacktoberfest/lib/python3.10/site-packages (from jsonschema->farm-haystack[faiss]) (0.30.2)\n",
      "Requirement already satisfied: rpds-py>=0.7.1 in /Users/enduser/miniconda3/envs/hacktoberfest/lib/python3.10/site-packages (from jsonschema->farm-haystack[faiss]) (0.10.6)\n",
      "Requirement already satisfied: python-dateutil>=2.8.2 in /Users/enduser/miniconda3/envs/hacktoberfest/lib/python3.10/site-packages (from pandas->farm-haystack[faiss]) (2.8.2)\n",
      "Requirement already satisfied: pytz>=2020.1 in /Users/enduser/miniconda3/envs/hacktoberfest/lib/python3.10/site-packages (from pandas->farm-haystack[faiss]) (2023.3.post1)\n",
      "Requirement already satisfied: tzdata>=2022.1 in /Users/enduser/miniconda3/envs/hacktoberfest/lib/python3.10/site-packages (from pandas->farm-haystack[faiss]) (2023.3)\n",
      "Requirement already satisfied: six>=1.5 in /Users/enduser/miniconda3/envs/hacktoberfest/lib/python3.10/site-packages (from posthog->farm-haystack[faiss]) (1.16.0)\n",
      "Requirement already satisfied: monotonic>=1.5 in /Users/enduser/miniconda3/envs/hacktoberfest/lib/python3.10/site-packages (from posthog->farm-haystack[faiss]) (1.6)\n",
      "Requirement already satisfied: backoff>=1.10.0 in /Users/enduser/miniconda3/envs/hacktoberfest/lib/python3.10/site-packages (from posthog->farm-haystack[faiss]) (2.2.1)\n",
      "Requirement already satisfied: inflect in /Users/enduser/miniconda3/envs/hacktoberfest/lib/python3.10/site-packages (from quantulum3->farm-haystack[faiss]) (7.0.0)\n",
      "Requirement already satisfied: num2words in /Users/enduser/miniconda3/envs/hacktoberfest/lib/python3.10/site-packages (from quantulum3->farm-haystack[faiss]) (0.5.12)\n",
      "Requirement already satisfied: exceptiongroup in /Users/enduser/miniconda3/envs/hacktoberfest/lib/python3.10/site-packages (from cattrs>=22.2->requests-cache<1.0.0->farm-haystack[faiss]) (1.1.3)\n",
      "Requirement already satisfied: anyio<5.0,>=3.0 in /Users/enduser/miniconda3/envs/hacktoberfest/lib/python3.10/site-packages (from httpcore<0.19.0,>=0.18.0->httpx->farm-haystack[faiss]) (3.7.1)\n",
      "Requirement already satisfied: h11<0.15,>=0.13 in /Users/enduser/miniconda3/envs/hacktoberfest/lib/python3.10/site-packages (from httpcore<0.19.0,>=0.18.0->httpx->farm-haystack[faiss]) (0.14.0)\n",
      "Requirement already satisfied: fsspec>=2023.5.0 in /Users/enduser/miniconda3/envs/hacktoberfest/lib/python3.10/site-packages (from huggingface-hub<1.0,>=0.15.1->transformers==4.32.1->farm-haystack[faiss]) (2023.9.2)\n",
      "Requirement already satisfied: greenlet!=0.4.17 in /Users/enduser/miniconda3/envs/hacktoberfest/lib/python3.10/site-packages (from sqlalchemy<2,>=1.4.2->farm-haystack[faiss]) (3.0.0)\n",
      "Requirement already satisfied: docopt>=0.6.2 in /Users/enduser/miniconda3/envs/hacktoberfest/lib/python3.10/site-packages (from num2words->quantulum3->farm-haystack[faiss]) (0.6.2)\n"
     ]
    }
   ],
   "source": [
    "# Packages\n",
    "import os\n",
    "import yfinance as yf\n",
    "from haystack.nodes import LinkContentFetcher\n",
    "from haystack.document_stores import InMemoryDocumentStore, FAISSDocumentStore\n",
    "from haystack.nodes import  BM25Retriever, AnswerParser, DensePassageRetriever, EmbeddingRetriever\n",
    "from haystack.nodes.prompt import PromptTemplate\n",
    "from haystack.nodes import PromptNode\n",
    "from haystack import Pipeline\n",
    "!pip install \"farm-haystack[faiss]\"\n",
    "from haystack.utils import print_answers"
   ]
  },
  {
   "cell_type": "code",
   "execution_count": 9,
   "metadata": {},
   "outputs": [],
   "source": [
    "# Model configurations\n",
    "hfAPIKey = os.getenv(\"HF_API_KEY\")\n",
    "hfModelName = os.getenv(\"HF_MODEL_NAME\")"
   ]
  },
  {
   "cell_type": "code",
   "execution_count": 10,
   "metadata": {},
   "outputs": [],
   "source": [
    "gold = yf.Ticker(\"GC=F\")\n",
    "news = gold.news"
   ]
  },
  {
   "cell_type": "code",
   "execution_count": 11,
   "metadata": {},
   "outputs": [],
   "source": [
    "links = []\n",
    "\n",
    "for new in news:\n",
    "    links.append(new[\"link\"])"
   ]
  },
  {
   "cell_type": "code",
   "execution_count": 12,
   "metadata": {},
   "outputs": [],
   "source": [
    "lcf = LinkContentFetcher()\n",
    "docs = []\n",
    "\n",
    "for link in links:\n",
    "    docs.append(lcf.fetch(link)[0])"
   ]
  },
  {
   "cell_type": "code",
   "execution_count": 13,
   "metadata": {},
   "outputs": [
    {
     "name": "stderr",
     "output_type": "stream",
     "text": [
      "Writing Documents: 10000it [00:00, 206359.79it/s]       \n",
      "/Users/enduser/miniconda3/envs/hacktoberfest/lib/python3.10/site-packages/torch/_utils.py:831: UserWarning: TypedStorage is deprecated. It will be removed in the future and UntypedStorage will be the only storage class. This should only matter to you if you are using storages directly.  To access UntypedStorage directly, use tensor.untyped_storage() instead of tensor.storage()\n",
      "  return self.fget.__get__(instance, owner)()\n"
     ]
    }
   ],
   "source": [
    "documentStore = FAISSDocumentStore(faiss_index_factory_str=\"Flat\", return_embedding=True)\n",
    "\n",
    "documentStore.delete_documents()\n",
    "documentStore.write_documents(docs)\n",
    "\n",
    "# retriever = DensePassageRetriever(\n",
    "#                 document_store=documentStore,\n",
    "#                 query_embedding_model=\"facebook/dpr-question_encoder-single-nq-base\",\n",
    "#                 passage_embedding_model=\"facebook/dpr-ctx_encoder-single-nq-base\",\n",
    "#                 use_gpu=True,\n",
    "#                 embed_title=True,\n",
    "#     )\n",
    "\n",
    "retriever = EmbeddingRetriever(\n",
    "    document_store=documentStore,\n",
    "   embedding_model=\"sentence-transformers/multi-qa-mpnet-base-dot-v1\",\n",
    "   model_format=\"sentence_transformers\"\n",
    ")"
   ]
  },
  {
   "cell_type": "code",
   "execution_count": 14,
   "metadata": {},
   "outputs": [],
   "source": [
    "promptTemplate = PromptTemplate(\n",
    "    prompt=\"\"\"\n",
    "    Answer the question truthfully based solely on the given documents. If the documents do not contain the answer to the question, say that answering is not possible given the available information. Your answer should be no longer than 1000 words.\n",
    "    Documents:{join(documents)}\n",
    "    Question:{query}\n",
    "    Answer:\n",
    "    \"\"\",\n",
    "    output_parser=AnswerParser(),\n",
    ")\n",
    "\n",
    "# Prompt Node initialization\n",
    "promptNode = PromptNode(hfModelName,api_key=hfAPIKey,default_prompt_template = promptTemplate)"
   ]
  },
  {
   "cell_type": "code",
   "execution_count": 15,
   "metadata": {},
   "outputs": [],
   "source": [
    "# Pipeline\n",
    "pipeline = Pipeline()\n",
    "pipeline.add_node(component=retriever, name=\"retriever\", inputs=[\"Query\"])\n",
    "pipeline.add_node(component=promptNode, name=\"promptNode\", inputs=[\"retriever\"])"
   ]
  },
  {
   "cell_type": "code",
   "execution_count": 20,
   "metadata": {},
   "outputs": [
    {
     "data": {
      "application/vnd.jupyter.widget-view+json": {
       "model_id": "cc9fc5d2a5c04b118988f2717facefe5",
       "version_major": 2,
       "version_minor": 0
      },
      "text/plain": [
       "Batches:   0%|          | 0/1 [00:00<?, ?it/s]"
      ]
     },
     "metadata": {},
     "output_type": "display_data"
    },
    {
     "name": "stderr",
     "output_type": "stream",
     "text": [
      "Expected prompt parameter 'documents' to be provided but it is missing. Continuing with an empty list of documents.\n"
     ]
    },
    {
     "name": "stdout",
     "output_type": "stream",
     "text": [
      "'Query: Summarize recent performance of gold'\n",
      "'Answers:'\n",
      "[   {   'answer': '1. Gold is a precious metal that has been used for '\n",
      "                  'centuries as a store of value and a medium of exchange. It '\n",
      "                  'is also used in jewelry and other decorative items.\\n'\n",
      "                  '2. Gold prices have been volatile in recent years, with '\n",
      "                  'prices reaching record highs in 2011 and then falling '\n",
      "                  'sharply in 2013.\\n'\n",
      "                  '3. The price of gold is determined by a number of factors, '\n",
      "                  'including supply and demand, economic conditions, and '\n",
      "                  'geopolitical events'}]\n"
     ]
    }
   ],
   "source": [
    "output = pipeline.run(query=\"Summarize recent performance of gold\",documents=documentStore.get_all_documents())\n",
    "print_answers(output, details=\"minimum\")"
   ]
  }
 ],
 "metadata": {
  "kernelspec": {
   "display_name": "hacktoberfest-env",
   "language": "python",
   "name": "python3"
  },
  "language_info": {
   "codemirror_mode": {
    "name": "ipython",
    "version": 3
   },
   "file_extension": ".py",
   "mimetype": "text/x-python",
   "name": "python",
   "nbconvert_exporter": "python",
   "pygments_lexer": "ipython3",
   "version": "3.10.13"
  }
 },
 "nbformat": 4,
 "nbformat_minor": 2
}
