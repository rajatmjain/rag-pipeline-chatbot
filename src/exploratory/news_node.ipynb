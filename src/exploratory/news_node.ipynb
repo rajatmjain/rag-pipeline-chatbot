{
 "cells": [
  {
   "cell_type": "code",
   "execution_count": 11,
   "metadata": {},
   "outputs": [],
   "source": [
    "# Packages\n",
    "import os\n",
    "import yfinance as yf\n",
    "from haystack.nodes import LinkContentFetcher\n",
    "from haystack.document_stores import InMemoryDocumentStore\n",
    "from haystack.nodes import  BM25Retriever, AnswerParser\n",
    "from haystack.nodes.prompt import PromptTemplate\n",
    "from haystack.nodes import PromptNode\n",
    "from haystack import Pipeline"
   ]
  },
  {
   "cell_type": "code",
   "execution_count": 12,
   "metadata": {},
   "outputs": [],
   "source": [
    "# Model configurations\n",
    "hfAPIKey = os.getenv(\"HF_API_KEY\")\n",
    "hfModelName = os.getenv(\"HF_MODEL_NAME\")"
   ]
  },
  {
   "cell_type": "code",
   "execution_count": 13,
   "metadata": {},
   "outputs": [],
   "source": [
    "gold = yf.Ticker(\"GC=F\")\n",
    "news = gold.news"
   ]
  },
  {
   "cell_type": "code",
   "execution_count": 14,
   "metadata": {},
   "outputs": [],
   "source": [
    "links = []\n",
    "\n",
    "for new in news:\n",
    "    links.append(new[\"link\"])"
   ]
  },
  {
   "cell_type": "code",
   "execution_count": 15,
   "metadata": {},
   "outputs": [],
   "source": [
    "lcf = LinkContentFetcher()\n",
    "docs = []\n",
    "\n",
    "for link in links:\n",
    "    docs.append(lcf.fetch(link)[0])"
   ]
  },
  {
   "cell_type": "code",
   "execution_count": 16,
   "metadata": {},
   "outputs": [
    {
     "name": "stderr",
     "output_type": "stream",
     "text": [
      "Updating BM25 representation...: 100%|██████████| 8/8 [00:00<00:00, 3414.51 docs/s]\n"
     ]
    }
   ],
   "source": [
    "documentStore = InMemoryDocumentStore(use_bm25=True)\n",
    "\n",
    "retriever = BM25Retriever(document_store=documentStore,top_k=3)\n",
    "\n",
    "documentStore.delete_documents()\n",
    "documentStore.write_documents(docs)"
   ]
  },
  {
   "cell_type": "code",
   "execution_count": 17,
   "metadata": {},
   "outputs": [],
   "source": [
    "promptTemplate = PromptTemplate(prompt = \n",
    "                                \"\"\"\" You are a bot named GoldBot who helps people understand the commodity Gold. You share gold insights and investment strategies. Answer the following query based on the provided context in 500 characters max. If the context does\n",
    "                                                not include an answer, reply with 'The data does not contain information related to the question'.\\n\n",
    "                                                Query: {query}\\n\n",
    "                                                Documents: {join(documents)}\n",
    "                                                Answer: \n",
    "                                \"\"\",\n",
    "                                output_parser=AnswerParser())\n",
    "\n",
    "# Prompt Node initialization\n",
    "promptNode = PromptNode(hfModelName,api_key=hfAPIKey,default_prompt_template=promptTemplate)"
   ]
  },
  {
   "cell_type": "code",
   "execution_count": 18,
   "metadata": {},
   "outputs": [],
   "source": [
    "# Pipeline\n",
    "pipeline = Pipeline()\n",
    "pipeline.add_node(component=retriever, name=\"Retriever\", inputs=[\"Query\"])\n",
    "pipeline.add_node(component=promptNode, name=\"PromptNode\", inputs=[\"Retriever\"])"
   ]
  },
  {
   "cell_type": "code",
   "execution_count": 24,
   "metadata": {},
   "outputs": [
    {
     "name": "stderr",
     "output_type": "stream",
     "text": [
      "The prompt has been truncated from 6784 tokens to 924 tokens so that the prompt length and answer length (100 tokens) fit within the max token limit (1024 tokens). Shorten the prompt to prevent it from being cut off.\n"
     ]
    },
    {
     "name": "stdout",
     "output_type": "stream",
     "text": [
      " which has been under pressure for a while. And we've been talking about that. But this week, it's been up. And it's been up for a few reasons. But one of the reasons is that inflation is still a concern. And that's something that we've been talking about for a while. And that's something that the Fed is still concerned about. And that's something that the market is still concerned about.\n",
      "So that's one\n"
     ]
    }
   ],
   "source": [
    "output = pipeline.run(query=\"Is it a good time to invest in Gold?\",documents=documentStore.get_all_documents())\n",
    "answer = output[\"answers\"][0].answer\n",
    "print(answer)"
   ]
  }
 ],
 "metadata": {
  "kernelspec": {
   "display_name": "hacktoberfest-env",
   "language": "python",
   "name": "python3"
  },
  "language_info": {
   "codemirror_mode": {
    "name": "ipython",
    "version": 3
   },
   "file_extension": ".py",
   "mimetype": "text/x-python",
   "name": "python",
   "nbconvert_exporter": "python",
   "pygments_lexer": "ipython3",
   "version": "3.10.13"
  }
 },
 "nbformat": 4,
 "nbformat_minor": 2
}
